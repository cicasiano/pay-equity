{
 "cells": [
  {
   "cell_type": "markdown",
   "id": "aa0a5a85",
   "metadata": {},
   "source": [
    "# Regression Analysis\n",
    "\n",
    "Conduct a multiple linear regression with independent variables: JobLevel, Gender, YearsatCompany, Education\n",
    "\n",
    "Test: Whether Gender is still a statistically significant predictor after controlling for job-related factors.\n",
    "\n",
    "How much salary variation can my model explain? (R^2)"
   ]
  },
  {
   "cell_type": "code",
   "execution_count": 7,
   "id": "fbcbdb57",
   "metadata": {},
   "outputs": [],
   "source": [
    "import pandas as pd\n",
    "import numpy as np\n",
    "import matplotlib.pyplot as plt\n",
    "import statsmodels.formula.api as smf"
   ]
  },
  {
   "cell_type": "code",
   "execution_count": null,
   "id": "eab61798",
   "metadata": {},
   "outputs": [],
   "source": [
    "data = pd.read_csv('..\\data\\processed\\cleaned_hr_data.csv')"
   ]
  },
  {
   "cell_type": "markdown",
   "id": "2289b3dc",
   "metadata": {},
   "source": [
    "What to look for:\n",
    "\n",
    "p-value for C(Gender) → if < 0.05, it’s statistically significant\n",
    "\n",
    "Coefficient for C(Gender)[T.1] → how much the salary changes for women (or men, depending on coding)\n",
    "\n",
    "R² → how much variation your model explains"
   ]
  },
  {
   "cell_type": "code",
   "execution_count": 13,
   "id": "cb65251b",
   "metadata": {},
   "outputs": [
    {
     "name": "stdout",
     "output_type": "stream",
     "text": [
      "                            OLS Regression Results                            \n",
      "==============================================================================\n",
      "Dep. Variable:           AnnualSalary   R-squared:                       0.001\n",
      "Model:                            OLS   Adj. R-squared:                 -0.002\n",
      "Method:                 Least Squares   F-statistic:                    0.4403\n",
      "Date:                Tue, 16 Sep 2025   Prob (F-statistic):              0.780\n",
      "Time:                        10:51:20   Log-Likelihood:                -17743.\n",
      "No. Observations:                1470   AIC:                         3.550e+04\n",
      "Df Residuals:                    1465   BIC:                         3.552e+04\n",
      "Df Model:                           4                                         \n",
      "Covariance Type:            nonrobust                                         \n",
      "==================================================================================\n",
      "                     coef    std err          t      P>|t|      [0.025      0.975]\n",
      "----------------------------------------------------------------------------------\n",
      "Intercept       1.371e+05   4040.567     33.940      0.000    1.29e+05    1.45e+05\n",
      "C(Gender)[T.1]  -119.8563   2255.014     -0.053      0.958   -4543.258    4303.545\n",
      "JobLevel       -1000.4538   1184.282     -0.845      0.398   -3323.523    1322.615\n",
      "YearsAtCompany   -48.2676    213.313     -0.226      0.821    -466.700     370.165\n",
      "Education        821.4467   1083.908      0.758      0.449   -1304.730    2947.624\n",
      "==============================================================================\n",
      "Omnibus:                     1095.023   Durbin-Watson:                   2.004\n",
      "Prob(Omnibus):                  0.000   Jarque-Bera (JB):               87.693\n",
      "Skew:                          -0.031   Prob(JB):                     9.07e-20\n",
      "Kurtosis:                       1.805   Cond. No.                         37.8\n",
      "==============================================================================\n",
      "\n",
      "Notes:\n",
      "[1] Standard Errors assume that the covariance matrix of the errors is correctly specified.\n"
     ]
    }
   ],
   "source": [
    "model = smf.ols(\n",
    "\tformula='AnnualSalary ~ JobLevel + C(Gender) + YearsAtCompany + Education',\n",
    "\tdata=data\n",
    ").fit()\n",
    "print(model.summary())"
   ]
  },
  {
   "cell_type": "markdown",
   "id": "bded0b79",
   "metadata": {},
   "source": [
    "R^2 states the linear combination of IV in model explains 0.1% of the variance in the AnnualSalary. (Value closer to 1 is preferred)"
   ]
  },
  {
   "cell_type": "markdown",
   "id": "159fe073",
   "metadata": {},
   "source": [
    "| Variable            | Coef     | p-value | Interpretation                                                                                                         |\n",
    "| ------------------- | -------- | ------- | ---------------------------------------------------------------------------------------------------------------------- |\n",
    "| **Intercept**       | 137,100  | 0.000   | Baseline salary for reference group (e.g., Gender=0, Education=1, etc.)                                                |\n",
    "| **C(Gender)\\[T.1]** | -\\$120   | 0.958   | Not statistically significant — no meaningful difference in salary between genders after controlling for other factors |\n",
    "| **JobLevel**        | -\\$1,000 | 0.398   | Surprisingly **negative**, but not significant (p > 0.05)                                                              |\n",
    "| **YearsAtCompany**  | -\\$48    | 0.821   | No impact on salary once you account for other variables                                                               |\n",
    "| **Education**       | +\\$821   | 0.449   | No significant effect detected here either                                                                             |\n"
   ]
  },
  {
   "cell_type": "code",
   "execution_count": 15,
   "id": "f6bb06aa",
   "metadata": {},
   "outputs": [],
   "source": [
    "# Adding jobroles to the model\n",
    "\n",
    "# Clean jobrole column names to remove spaces and special characters\n",
    "data.columns = data.columns.str.replace(' ', '_')\n"
   ]
  },
  {
   "cell_type": "code",
   "execution_count": 16,
   "id": "3646db6b",
   "metadata": {},
   "outputs": [
    {
     "data": {
      "text/plain": [
       "Index(['DailyRate', 'DistanceFromHome', 'Education', 'EnvironmentSatisfaction',\n",
       "       'Gender', 'JobLevel', 'OverTime', 'PercentSalaryHike',\n",
       "       'RelationshipSatisfaction', 'StockOptionLevel', 'WorkLifeBalance',\n",
       "       'YearsAtCompany', 'AnnualSalary', 'BusinessTravel_Travel_Frequently',\n",
       "       'BusinessTravel_Travel_Rarely', 'Department_Research_&_Development',\n",
       "       'Department_Sales', 'EducationField_Life_Sciences',\n",
       "       'EducationField_Marketing', 'EducationField_Medical',\n",
       "       'EducationField_Other', 'EducationField_Technical_Degree',\n",
       "       'JobRole_Human_Resources', 'JobRole_Laboratory_Technician',\n",
       "       'JobRole_Manager', 'JobRole_Manufacturing_Director',\n",
       "       'JobRole_Research_Director', 'JobRole_Research_Scientist',\n",
       "       'JobRole_Sales_Executive', 'JobRole_Sales_Representative'],\n",
       "      dtype='object')"
      ]
     },
     "execution_count": 16,
     "metadata": {},
     "output_type": "execute_result"
    }
   ],
   "source": [
    "data.columns"
   ]
  },
  {
   "cell_type": "code",
   "execution_count": 17,
   "id": "3fa49da8",
   "metadata": {},
   "outputs": [
    {
     "name": "stdout",
     "output_type": "stream",
     "text": [
      "                            OLS Regression Results                            \n",
      "==============================================================================\n",
      "Dep. Variable:           AnnualSalary   R-squared:                       0.004\n",
      "Model:                            OLS   Adj. R-squared:                 -0.004\n",
      "Method:                 Least Squares   F-statistic:                    0.4995\n",
      "Date:                Tue, 16 Sep 2025   Prob (F-statistic):              0.916\n",
      "Time:                        11:25:38   Log-Likelihood:                -17741.\n",
      "No. Observations:                1470   AIC:                         3.551e+04\n",
      "Df Residuals:                    1457   BIC:                         3.558e+04\n",
      "Df Model:                          12                                         \n",
      "Covariance Type:            nonrobust                                         \n",
      "==========================================================================================================\n",
      "                                             coef    std err          t      P>|t|      [0.025      0.975]\n",
      "----------------------------------------------------------------------------------------------------------\n",
      "Intercept                               1.436e+05   7051.348     20.369      0.000     1.3e+05    1.57e+05\n",
      "C(Gender)[T.1]                          -148.4968   2269.085     -0.065      0.948   -4599.518    4302.525\n",
      "JobRole_Human_Resources[T.True]        -8181.7093   7233.025     -1.131      0.258   -2.24e+04    6006.546\n",
      "JobRole_Laboratory_Technician[T.True]  -3505.8989   5192.489     -0.675      0.500   -1.37e+04    6679.653\n",
      "JobRole_Manager[T.True]                 5027.6395   6714.148      0.749      0.454   -8142.790    1.82e+04\n",
      "JobRole_Manufacturing_Director[T.True] -3874.9372   5116.858     -0.757      0.449   -1.39e+04    6162.259\n",
      "JobRole_Research_Director[T.True]      -2531.6520   6764.606     -0.374      0.708   -1.58e+04    1.07e+04\n",
      "JobRole_Research_Scientist[T.True]     -3660.9575   5151.973     -0.711      0.477   -1.38e+04    6445.120\n",
      "JobRole_Sales_Executive[T.True]        -3367.0517   4393.948     -0.766      0.444    -1.2e+04    5252.088\n",
      "JobRole_Sales_Representative[T.True]   -8765.7576   6586.039     -1.331      0.183   -2.17e+04    4153.373\n",
      "JobLevel                               -2517.2902   2169.965     -1.160      0.246   -6773.879    1739.298\n",
      "YearsAtCompany                           -76.7189    216.007     -0.355      0.723    -500.438     347.000\n",
      "Education                                788.3993   1090.263      0.723      0.470   -1350.254    2927.052\n",
      "==============================================================================\n",
      "Omnibus:                      961.897   Durbin-Watson:                   2.001\n",
      "Prob(Omnibus):                  0.000   Jarque-Bera (JB):               85.406\n",
      "Skew:                          -0.037   Prob(JB):                     2.85e-19\n",
      "Kurtosis:                       1.822   Cond. No.                         111.\n",
      "==============================================================================\n",
      "\n",
      "Notes:\n",
      "[1] Standard Errors assume that the covariance matrix of the errors is correctly specified.\n"
     ]
    }
   ],
   "source": [
    "\n",
    "model_with_jobroles = smf.ols(\n",
    "    formula='AnnualSalary ~ JobLevel + C(Gender) + YearsAtCompany + Education + JobRole_Human_Resources + JobRole_Laboratory_Technician + JobRole_Manager + JobRole_Manufacturing_Director + JobRole_Research_Director + JobRole_Research_Scientist + JobRole_Sales_Executive + JobRole_Sales_Representative',\n",
    "    data=data\n",
    ").fit()\n",
    "print(model_with_jobroles.summary())"
   ]
  },
  {
   "cell_type": "markdown",
   "id": "e34d6cb0",
   "metadata": {},
   "source": [
    "The R-squared increased slightly from 0.001 to 0.004, showing that these variables collectively explain less than 1% of the variance in salary. Regression model performs no better than predicting the mean salary for every employee."
   ]
  },
  {
   "cell_type": "code",
   "execution_count": 20,
   "id": "9784eb0b",
   "metadata": {},
   "outputs": [],
   "source": [
    "## Export summary to csv\n",
    "# Extract the summary as a DataFrame\n",
    "summary_df = pd.DataFrame({\n",
    "    'coef': model.params,\n",
    "    'std_err': model.bse,\n",
    "    't': model.tvalues,\n",
    "    'p_value': model.pvalues,\n",
    "    'conf_low': model.conf_int()[0],\n",
    "    'conf_high': model.conf_int()[1]\n",
    "})\n",
    "\n",
    "# Optional: round for readability\n",
    "summary_df = summary_df.round(4)\n",
    "\n",
    "# Export to CSV\n",
    "summary_df.to_csv('../outputs/model_summary.csv')"
   ]
  },
  {
   "cell_type": "code",
   "execution_count": null,
   "id": "4166696b",
   "metadata": {},
   "outputs": [],
   "source": []
  }
 ],
 "metadata": {
  "kernelspec": {
   "display_name": "titanic-env",
   "language": "python",
   "name": "python3"
  },
  "language_info": {
   "codemirror_mode": {
    "name": "ipython",
    "version": 3
   },
   "file_extension": ".py",
   "mimetype": "text/x-python",
   "name": "python",
   "nbconvert_exporter": "python",
   "pygments_lexer": "ipython3",
   "version": "3.10.18"
  }
 },
 "nbformat": 4,
 "nbformat_minor": 5
}
